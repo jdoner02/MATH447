{
 "cells": [
  {
   "cell_type": "markdown",
   "id": "795d8eef",
   "metadata": {},
   "source": [
    "# Solution to Problem 2.3.4: The Allee Effect\n",
    "\n",
    "In nature, various factors can affect the growth rate of a population. The Allee effect is one such fascinating phenomenon where the effective growth rate is highest at an intermediate population size. This might occur, for example, when a low population finds it hard to locate mates, whereas a large population faces resource competition."
   ]
  },
  {
   "cell_type": "markdown",
   "id": "74350903",
   "metadata": {},
   "source": [
    "## Part (a): Verifying the Allee Effect\n",
    "\n",
    "We're tasked to show that the equation\n",
    "\n",
    "$\\frac{N'}{N} = r - a(N - b)^2$\n",
    "\n",
    "is representative of the Allee effect given certain constraints on $ r $, $ a $, and $ b $.\n",
    "\n"
   ]
  },
  {
   "cell_type": "markdown",
   "id": "2c0b3a6a",
   "metadata": {},
   "source": [
    "To confirm that the above equation captures the Allee effect:\n",
    "\n",
    "1. It should be a concave-down parabola: This is because the Allee effect implies that the growth rate ratio peaks at an intermediate population size, $ N $.\n",
    "2. The vertex of this parabola should be positive, as we're only considering positive population sizes.\n",
    "3. It should intersect the x-axis at two points. This indicates two populations where the growth rate becomes zero: one for a very small population and another for a large one.\n",
    "\n",
    "- $ a > 0 $ ensures the equation is a concave-down parabola.\n",
    "- $ b > 0 $ ensures the vertex of the parabola is positive.\n",
    "- $ r > 0 $ ensures the parabola intersects the x-axis at two positive points.\n",
    "\n",
    "Thus, the constraints for $ r $, $ a $, and $ b $ are that they are all positive values."
   ]
  },
  {
   "cell_type": "markdown",
   "id": "5a783cc8",
   "metadata": {},
   "source": [
    "**Code:** \n",
    "\n",
    "In this cell, we'll visualize the relationship between $ N' $ (the rate of change of the population) and $ N $ (the population size) as described by the equation:\n",
    "\n",
    "$ \\frac{N'}{N} = r - a(N - b)^2 $\n",
    "\n",
    "This equation represents a population growth rate that exhibits the Allee effect, with the potential for both positive and negative growth depending on the parameters $ r $, $ a $, and $ b $ and the current population size $ N $.\n",
    "\n",
    "The graph below displays this relationship. By adjusting the sliders for $ r $, $ a $, and $ b $, you can observe:\n",
    "\n",
    "- The general shape of the curve, which is a parabola.\n",
    "- The intersections of the curve with the x-axis, which are the fixed points of the system.\n",
    "- The effects of the parameters on these fixed points: For instance, changing $ r $ shifts the curve up or down, altering $ a $ switches between concave up and down shapes, and tweaking $ b $ shifts the curve left or right.\n",
    "\n",
    "This interactive visualization helps us understand the stability and dynamics of populations under the Allee effect by observing how the fixed points change with different parameters."
   ]
  },
  {
   "cell_type": "code",
   "execution_count": 1,
   "id": "ddd7d69e",
   "metadata": {},
   "outputs": [
    {
     "data": {
      "application/vnd.jupyter.widget-view+json": {
       "model_id": "4804b3c55d344e4c8d3fbd1b5e803001",
       "version_major": 2,
       "version_minor": 0
      },
      "text/plain": [
       "interactive(children=(FloatSlider(value=0.1, description='r:', max=1.0, min=-0.1, step=0.01), FloatSlider(valu…"
      ]
     },
     "metadata": {},
     "output_type": "display_data"
    }
   ],
   "source": [
    "import numpy as np\n",
    "import matplotlib.pyplot as plt\n",
    "import ipywidgets as widgets\n",
    "\n",
    "def plot_N_prime(r=1.0, a=0.1, b=1.0):\n",
    "    # Create a grid of population values to compute N' for\n",
    "    N = np.linspace(-10, 10, 1000)\n",
    "    \n",
    "    # Compute the rate of change N' for each value of N\n",
    "    N_prime_ratio = r - a*(N - b)**2\n",
    "    \n",
    "    plt.figure(figsize=(10,6))\n",
    "    \n",
    "    # Plot N'/N against N\n",
    "    plt.plot(N, N_prime_ratio, label=f'N\\'/N = r - a(N - b)^2', color='blue')\n",
    "    \n",
    "    # Add horizontal line at N'/N=0 for reference\n",
    "    plt.axhline(0, color='red', linestyle='--', label='N\\'/N=0 (No growth line)')\n",
    "    \n",
    "    # Highlight the fixed points\n",
    "    try:\n",
    "        roots = [b - np.sqrt(r/a), b + np.sqrt(r/a)]\n",
    "        for root in roots:\n",
    "            if -10 <= root <= 10:\n",
    "                plt.axvline(root, color='green', linestyle='--')\n",
    "                plt.annotate(f'N={root:.2f}', (root, 0.1), textcoords=\"offset points\", xytext=(0,10), ha='center')\n",
    "    except:\n",
    "        pass\n",
    "    \n",
    "    # Set plot title and axis labels\n",
    "    plt.title('Rate of Change of Population Ratio (N\\'/N) vs. Population (N)')\n",
    "    plt.xlabel('Population (N)')\n",
    "    plt.ylabel('Rate of Change Ratio (N\\'/N)')\n",
    "    \n",
    "    # Adjust the x-axis and y-axis limits to focus around the crossing points\n",
    "    plt.xlim([-5, 5])\n",
    "    plt.ylim([-2, 2])\n",
    "    \n",
    "    # Add a legend to the plot\n",
    "    plt.legend()\n",
    "    \n",
    "    # Display a grid to make the plot easier to read\n",
    "    plt.grid(True)\n",
    "    \n",
    "    # Finally, display the plot\n",
    "    plt.show()\n",
    "\n",
    "# Create interactive widgets for controlling the parameters\n",
    "N_prime_widgets = widgets.interactive(plot_N_prime,\n",
    "                                      r=widgets.FloatSlider(value=0.1, min=-0.1, max=1, step=0.01, description='r:'),\n",
    "                                      a=widgets.FloatSlider(value=0.1, min=-1, max=1, step=0.1, description='a:'),\n",
    "                                      b=widgets.FloatSlider(value=1.0, min=-5, max=5, step=0.1, description='b:'))\n",
    "\n",
    "# Display the widgets and the plot\n",
    "display(N_prime_widgets)\n"
   ]
  },
  {
   "cell_type": "markdown",
   "id": "b9aa2d16",
   "metadata": {},
   "source": [
    "## Part (b): Fixed Points and Their Stability\n",
    "\n",
    "To determine the fixed points of the system, we'll set $ N' $ to zero and solve for $ N $. These fixed points represent population sizes at which the population neither grows nor shrinks.\n",
    "\n"
   ]
  },
  {
   "cell_type": "markdown",
   "id": "f90e7bf5",
   "metadata": {},
   "source": [
    "From our investigations:\n",
    "\n",
    "1. $ N^* = 0 $: The stability of this fixed point depends on the relationship between $ r $ and $ ab^2 $.\n",
    "2. $ N^* = b + \\sqrt{\\frac{r}{a}} $ and $ N^* = b - \\sqrt{\\frac{r}{a}} $: Stability analysis is performed by examining the sign of the first derivative at these points.\n",
    "\n"
   ]
  },
  {
   "cell_type": "markdown",
   "id": "698a3e38",
   "metadata": {},
   "source": [
    "## Part (c): Sketching Solutions for Different Initial Conditions\n",
    "\n",
    "With the established fixed points and understanding their stability, we can now sketch the trajectories of $ N(t) $ for various initial conditions.\n",
    "\n"
   ]
  },
  {
   "cell_type": "markdown",
   "id": "f8f411a8",
   "metadata": {},
   "source": [
    "## Part (d):\n",
    "\n",
    "**Part d: Comparison between the Allee effect and Logistic growth**\n",
    "\n",
    "One of the key insights from mathematical biology is understanding how various biological phenomena are reflected in the mathematical models that describe population growth. In this part, we are comparing the population dynamics described by the Allee effect equation to the well-known logistic growth equation. Our goal is to observe how different growth dynamics manifest in these two models and what the qualitative differences between them are.\n",
    "\n",
    "To aid in this comparison, we've developed an interactive plot below:\n",
    "\n",
    "The plot displays the rate of change $ N' $ of the population $ N $ as described by both the Allee effect (in blue) and logistic growth (in green). You'll notice that while both curves intersect the x-axis (indicating points where the population doesn't change), their shapes and the implications for population dynamics differ.\n",
    "\n",
    "**Sliders Description:**\n",
    "\n",
    "- **r:** Represents the intrinsic growth rate in both models. As you adjust it, you'll see both curves moving vertically. In the Allee effect equation, a higher $ r $ means a higher maximum growth rate before it starts to decline. In the logistic equation, it defines the steepness of the growth curve.\n",
    "\n",
    "- **a:** This parameter is unique to the Allee effect and determines the concavity of the blue curve. As you increase $ a $, the curve becomes steeper, meaning the Allee effect becomes more pronounced. This represents how harshly the population growth rate drops off as $ N $ moves away from the optimal population size $ b $.\n",
    "\n",
    "- **b:** This represents the optimal population size in the Allee effect model. It's the point where the population growth rate is maximized. By adjusting this slider, you're shifting the blue curve horizontally, which effectively changes the population size at which the maximum growth rate occurs.\n",
    "\n",
    "- **K:** Known as the carrying capacity, this parameter is unique to the logistic growth model. It represents the maximum sustainable population in the given environment. Adjusting this slider changes the point where the green curve touches the x-axis.\n",
    "\n",
    "As you adjust the sliders, take note of where the curves intersect the x-axis (these are the fixed points or equilibria) and how the curves' shapes change relative to each other. This will give you an intuitive understanding of the population dynamics described by both models.\n"
   ]
  },
  {
   "cell_type": "code",
   "execution_count": 2,
   "id": "e8109e21",
   "metadata": {},
   "outputs": [
    {
     "data": {
      "application/vnd.jupyter.widget-view+json": {
       "model_id": "fb60c861ffad4e30ba04fd228a0f7309",
       "version_major": 2,
       "version_minor": 0
      },
      "text/plain": [
       "interactive(children=(FloatSlider(value=1.0, description='r:', max=5.0, min=0.1), FloatSlider(value=0.1, descr…"
      ]
     },
     "metadata": {},
     "output_type": "display_data"
    }
   ],
   "source": [
    "def compare_allee_logistic(r=1.0, a=0.1, b=1.0, K=2.0):\n",
    "    N = np.linspace(0, 10, 400) # Population grid\n",
    "    N_prime_allee = r - a*(N - b)**2\n",
    "    N_prime_logistic = r * (1 - N/K) * N\n",
    "    \n",
    "    plt.figure(figsize=(10,6))\n",
    "    plt.plot(N, N_prime_allee, label='Allee: r-a(N-b)^2', color='blue')\n",
    "    plt.plot(N, N_prime_logistic, label=f'Logistic: r(1-N/{K})*N', color='green')\n",
    "    plt.axhline(0, color='red', linestyle='--') # Zero line\n",
    "    \n",
    "    # Setting axis limits\n",
    "    plt.xlim([0, 10])\n",
    "    plt.ylim([-10, 10])\n",
    "    \n",
    "    plt.title('Comparing Allee Effect and Logistic Equations')\n",
    "    plt.xlabel('Population N')\n",
    "    plt.ylabel('Rate of change N\\'')\n",
    "    plt.legend()\n",
    "    plt.grid(True)\n",
    "    plt.show()\n",
    "\n",
    "# Widgets to control the parameters\n",
    "compare_widgets = widgets.interactive(compare_allee_logistic,\n",
    "                                      r=widgets.FloatSlider(value=1.0, min=0.1, max=5, step=0.1, description='r:'),\n",
    "                                      a=widgets.FloatSlider(value=0.1, min=0.01, max=2, step=0.01, description='a:'),\n",
    "                                      b=widgets.FloatSlider(value=1.0, min=0.1, max=5, step=0.1, description='b:'),\n",
    "                                      K=widgets.FloatSlider(value=2.0, min=0.1, max=10, step=0.1, description='K:'))\n",
    "\n",
    "display(compare_widgets)\n"
   ]
  },
  {
   "cell_type": "markdown",
   "id": "651f577e",
   "metadata": {},
   "source": [
    "Upon comparison, we observe:\n",
    "\n",
    "\n"
   ]
  },
  {
   "cell_type": "code",
   "execution_count": 3,
   "id": "bc5f48bb-33ad-420c-8a1f-45db0c0fd535",
   "metadata": {},
   "outputs": [
    {
     "data": {
      "application/vnd.jupyter.widget-view+json": {
       "model_id": "bc43084402e64f1d92415bfa091838b2",
       "version_major": 2,
       "version_minor": 0
      },
      "text/plain": [
       "interactive(children=(FloatSlider(value=1.0, description='r:', max=5.0, min=0.1), FloatSlider(value=0.1, descr…"
      ]
     },
     "metadata": {},
     "output_type": "display_data"
    },
    {
     "data": {
      "image/png": "[encoded data removed]",
      "text/plain": [
       "<Figure size 1000x1200 with 1 Axes>"
      ]
     },
     "metadata": {},
     "output_type": "display_data"
    }
   ],
   "source": [
    "def trajectory_with_fixed_points(r=1.0, a=0.1, b=1.0, K=2.0):\n",
    "    # Time grid\n",
    "    t = np.linspace(0, 5, 400)\n",
    "    \n",
    "    # Differential equations for both models\n",
    "    def allee_rhs(t, N):\n",
    "        return [r * N - a * N * (N - b)**2]\n",
    "    \n",
    "    def logistic_rhs(t, N):\n",
    "        return [r * N * (1 - N/K)]\n",
    "    \n",
    "    # Initial conditions\n",
    "    initial_conditions = [0.1, 1.0, 2.0, 3.0, 5.0]\n",
    "    \n",
    "    # Plotting\n",
    "    plt.figure(figsize=(10,12))\n",
    "    \n",
    "    # Allee\n",
    "    plt.subplot(2, 1, 1)\n",
    "    for N0 in initial_conditions:\n",
    "        allee_sol = solve_ivp(allee_rhs, (t[0], t[-1]), [N0], t_eval=t)\n",
    "        plt.plot(t, allee_sol.y[0], label=f'N0={N0}')\n",
    "    plt.axhline(0, color='grey', linestyle='--')  # Fixed point at N=0\n",
    "    plt.axhline(b-r/a, color='grey', linestyle='--')  # Other fixed points\n",
    "    plt.axhline(b+r/a, color='grey', linestyle='--')\n",
    "    plt.title('Allee Effect Trajectories')\n",
    "    plt.xlabel('Time t')\n",
    "    plt.ylabel('Population N')\n",
    "    plt.grid(True)\n",
    "    plt.legend()\n",
    "    \n",
    "    # Logistic\n",
    "    plt.subplot(2, 1, 2)\n",
    "    for N0 in initial_conditions:\n",
    "        logistic_sol = solve_ivp(logistic_rhs, (t[0], t[-1]), [N0], t_eval=t)\n",
    "        plt.plot(t, logistic_sol.y[0], label=f'N0={N0}')\n",
    "    plt.axhline(0, color='grey', linestyle='--')  # Fixed point at N=0\n",
    "    plt.axhline(K, color='grey', linestyle='--')  # Carrying capacity\n",
    "    plt.title('Logistic Growth Trajectories')\n",
    "    plt.xlabel('Time t')\n",
    "    plt.ylabel('Population N')\n",
    "    plt.grid(True)\n",
    "    plt.legend()\n",
    "\n",
    "    plt.tight_layout()\n",
    "    plt.show()\n",
    "\n",
    "# Widgets to control the parameters\n",
    "trajectory_widgets_fixed_points = widgets.interactive(trajectory_with_fixed_points,\n",
    "                                                      r=widgets.FloatSlider(value=1.0, min=0.1, max=5, step=0.1, description='r:'),\n",
    "                                                      a=widgets.FloatSlider(value=0.1, min=0.01, max=2, step=0.01, description='a:'),\n",
    "                                                      b=widgets.FloatSlider(value=1.0, min=0.1, max=5, step=0.1, description='b:'),\n",
    "                                                      K=widgets.FloatSlider(value=2.0, min=0.1, max=10, step=0.1, description='K:'))\n",
    "\n",
    "display(trajectory_widgets_fixed_points)\n"
   ]
  },
  {
   "cell_type": "code",
   "execution_count": null,
   "id": "6b88d22b",
   "metadata": {},
   "outputs": [],
   "source": []
  }
 ],
 "metadata": {
  "kernelspec": {
   "display_name": "Python 3 (ipykernel)",
   "language": "python",
   "name": "python3"
  },
  "language_info": {
   "codemirror_mode": {
    "name": "ipython",
    "version": 3
   },
   "file_extension": ".py",
   "mimetype": "text/x-python",
   "name": "python",
   "nbconvert_exporter": "python",
   "pygments_lexer": "ipython3",
   "version": "3.11.2"
  }
 },
 "nbformat": 4,
 "nbformat_minor": 5
}
