{
 "cells": [
  {
   "cell_type": "code",
   "execution_count": 1,
   "id": "00fc15d6-5710-4ebd-af64-bd297c2beb9a",
   "metadata": {},
   "outputs": [
    {
     "data": {
      "application/vnd.jupyter.widget-view+json": {
       "model_id": "5cdd3f9d73c248a3bbf21eca1b0cfbc5",
       "version_major": 2,
       "version_minor": 0
      },
      "text/plain": [
       "interactive(children=(FloatSlider(value=1.0, description='r:', max=3.0, min=0.1), FloatSlider(value=0.5, descr…"
      ]
     },
     "metadata": {},
     "output_type": "display_data"
    },
    {
     "data": {
      "text/plain": [
       "<function __main__.plot_trajectories(r=1, a=0.5, b=5)>"
      ]
     },
     "execution_count": 1,
     "metadata": {},
     "output_type": "execute_result"
    }
   ],
   "source": [
    "import numpy as np\n",
    "import matplotlib.pyplot as plt\n",
    "from scipy.integrate import odeint\n",
    "import ipywidgets as widgets\n",
    "from IPython.display import display\n",
    "\n",
    "# Differential equation\n",
    "def model(N, t, r, a, b):\n",
    "    return N * (r - a * (N - b)**2)\n",
    "\n",
    "# Integrate and plot trajectories\n",
    "def plot_trajectories(r=1, a=0.5, b=5):\n",
    "    # Time array\n",
    "    t = np.linspace(0, 10, 1000)\n",
    "    \n",
    "    # Fixed points\n",
    "    fixed_points = [0, b - np.sqrt(r/a), b + np.sqrt(r/a)]\n",
    "    \n",
    "    # Initial conditions\n",
    "    init_conditions = [fp - 0.1 for fp in fixed_points] + [fp + 0.1 for fp in fixed_points]\n",
    "    \n",
    "    plt.figure(figsize=(10, 6))\n",
    "    \n",
    "    # Plot trajectories for each initial condition\n",
    "    for N0 in init_conditions:\n",
    "        N = odeint(model, N0, t, args=(r, a, b))\n",
    "        plt.plot(t, N, label=f'N0={N0:.2f}')\n",
    "    \n",
    "    # Plot horizontal lines for fixed points\n",
    "    for fp in fixed_points:\n",
    "        plt.axhline(fp, color='grey', linestyle='--')\n",
    "    \n",
    "    plt.legend()\n",
    "    plt.xlabel('Time (t)')\n",
    "    plt.ylabel('N(t)')\n",
    "    plt.title('Trajectories of N(t) for different initial conditions')\n",
    "    plt.grid(True)\n",
    "    plt.show()\n",
    "\n",
    "# Interactive sliders\n",
    "widgets.interact(plot_trajectories,\n",
    "                 r=widgets.FloatSlider(value=1, min=0.1, max=3, step=0.1, description='r:'),\n",
    "                 a=widgets.FloatSlider(value=0.5, min=0.1, max=3, step=0.1, description='a:'),\n",
    "                 b=widgets.FloatSlider(value=5, min=0.1, max=10, step=0.1, description='b:')\n",
    "                )\n"
   ]
  },
  {
   "cell_type": "code",
   "execution_count": null,
   "id": "bc5f48bb-33ad-420c-8a1f-45db0c0fd535",
   "metadata": {},
   "outputs": [],
   "source": []
  }
 ],
 "metadata": {
  "kernelspec": {
   "display_name": "Python 3 (ipykernel)",
   "language": "python",
   "name": "python3"
  },
  "language_info": {
   "codemirror_mode": {
    "name": "ipython",
    "version": 3
   },
   "file_extension": ".py",
   "mimetype": "text/x-python",
   "name": "python",
   "nbconvert_exporter": "python",
   "pygments_lexer": "ipython3",
   "version": "3.11.2"
  }
 },
 "nbformat": 4,
 "nbformat_minor": 5
}
